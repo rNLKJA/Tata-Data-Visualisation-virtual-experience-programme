{
 "cells": [
  {
   "cell_type": "code",
   "execution_count": 1,
   "id": "9926b24a-fcab-4b81-acdd-51bcc7866b42",
   "metadata": {
    "execution": {
     "iopub.execute_input": "2022-10-23T14:23:50.996632Z",
     "iopub.status.busy": "2022-10-23T14:23:50.996037Z",
     "iopub.status.idle": "2022-10-23T14:23:52.095628Z",
     "shell.execute_reply": "2022-10-23T14:23:52.095044Z",
     "shell.execute_reply.started": "2022-10-23T14:23:50.996454Z"
    },
    "tags": []
   },
   "outputs": [],
   "source": [
    "import pandas as pd\n",
    "import numpy as np\n",
    "from pathlib import Path"
   ]
  },
  {
   "cell_type": "code",
   "execution_count": 2,
   "id": "3ce046be-0df7-4acb-b8a5-fde0ae9aa812",
   "metadata": {
    "execution": {
     "iopub.execute_input": "2022-10-23T14:23:52.201386Z",
     "iopub.status.busy": "2022-10-23T14:23:52.201090Z",
     "iopub.status.idle": "2022-10-23T14:23:52.215785Z",
     "shell.execute_reply": "2022-10-23T14:23:52.214420Z",
     "shell.execute_reply.started": "2022-10-23T14:23:52.201357Z"
    },
    "tags": []
   },
   "outputs": [
    {
     "data": {
      "text/plain": [
       "PosixPath('../data/Online Retail.xlsx')"
      ]
     },
     "execution_count": 2,
     "metadata": {},
     "output_type": "execute_result"
    }
   ],
   "source": [
    "dataset_dir = Path(\"../data/Online Retail.xlsx\")\n",
    "dataset_dir"
   ]
  },
  {
   "cell_type": "code",
   "execution_count": 3,
   "id": "d65feabd-cc98-494c-9ab0-a53f5950f97c",
   "metadata": {
    "execution": {
     "iopub.execute_input": "2022-10-23T14:23:53.526707Z",
     "iopub.status.busy": "2022-10-23T14:23:53.526405Z",
     "iopub.status.idle": "2022-10-23T14:24:47.108964Z",
     "shell.execute_reply": "2022-10-23T14:24:47.108047Z",
     "shell.execute_reply.started": "2022-10-23T14:23:53.526681Z"
    },
    "tags": []
   },
   "outputs": [],
   "source": [
    "df = pd.read_excel(dataset_dir)"
   ]
  },
  {
   "cell_type": "code",
   "execution_count": 4,
   "id": "c000be17-3d7d-490e-9f15-d5e9be18cfe2",
   "metadata": {
    "execution": {
     "iopub.execute_input": "2022-10-23T14:24:47.110910Z",
     "iopub.status.busy": "2022-10-23T14:24:47.110648Z",
     "iopub.status.idle": "2022-10-23T14:24:47.226111Z",
     "shell.execute_reply": "2022-10-23T14:24:47.225386Z",
     "shell.execute_reply.started": "2022-10-23T14:24:47.110882Z"
    },
    "tags": []
   },
   "outputs": [
    {
     "data": {
      "text/html": [
       "<div>\n",
       "<style scoped>\n",
       "    .dataframe tbody tr th:only-of-type {\n",
       "        vertical-align: middle;\n",
       "    }\n",
       "\n",
       "    .dataframe tbody tr th {\n",
       "        vertical-align: top;\n",
       "    }\n",
       "\n",
       "    .dataframe thead th {\n",
       "        text-align: right;\n",
       "    }\n",
       "</style>\n",
       "<table border=\"1\" class=\"dataframe\">\n",
       "  <thead>\n",
       "    <tr style=\"text-align: right;\">\n",
       "      <th></th>\n",
       "      <th>InvoiceNo</th>\n",
       "      <th>StockCode</th>\n",
       "      <th>Description</th>\n",
       "      <th>Quantity</th>\n",
       "      <th>InvoiceDate</th>\n",
       "      <th>UnitPrice</th>\n",
       "      <th>CustomerID</th>\n",
       "      <th>Country</th>\n",
       "    </tr>\n",
       "  </thead>\n",
       "  <tbody>\n",
       "    <tr>\n",
       "      <th>541904</th>\n",
       "      <td>581587</td>\n",
       "      <td>22613</td>\n",
       "      <td>PACK OF 20 SPACEBOY NAPKINS</td>\n",
       "      <td>12</td>\n",
       "      <td>2011-12-09 12:50:00</td>\n",
       "      <td>0.85</td>\n",
       "      <td>12680.0</td>\n",
       "      <td>France</td>\n",
       "    </tr>\n",
       "    <tr>\n",
       "      <th>541905</th>\n",
       "      <td>581587</td>\n",
       "      <td>22899</td>\n",
       "      <td>CHILDREN'S APRON DOLLY GIRL</td>\n",
       "      <td>6</td>\n",
       "      <td>2011-12-09 12:50:00</td>\n",
       "      <td>2.10</td>\n",
       "      <td>12680.0</td>\n",
       "      <td>France</td>\n",
       "    </tr>\n",
       "    <tr>\n",
       "      <th>541906</th>\n",
       "      <td>581587</td>\n",
       "      <td>23254</td>\n",
       "      <td>CHILDRENS CUTLERY DOLLY GIRL</td>\n",
       "      <td>4</td>\n",
       "      <td>2011-12-09 12:50:00</td>\n",
       "      <td>4.15</td>\n",
       "      <td>12680.0</td>\n",
       "      <td>France</td>\n",
       "    </tr>\n",
       "    <tr>\n",
       "      <th>541907</th>\n",
       "      <td>581587</td>\n",
       "      <td>23255</td>\n",
       "      <td>CHILDRENS CUTLERY CIRCUS PARADE</td>\n",
       "      <td>4</td>\n",
       "      <td>2011-12-09 12:50:00</td>\n",
       "      <td>4.15</td>\n",
       "      <td>12680.0</td>\n",
       "      <td>France</td>\n",
       "    </tr>\n",
       "    <tr>\n",
       "      <th>541908</th>\n",
       "      <td>581587</td>\n",
       "      <td>22138</td>\n",
       "      <td>BAKING SET 9 PIECE RETROSPOT</td>\n",
       "      <td>3</td>\n",
       "      <td>2011-12-09 12:50:00</td>\n",
       "      <td>4.95</td>\n",
       "      <td>12680.0</td>\n",
       "      <td>France</td>\n",
       "    </tr>\n",
       "  </tbody>\n",
       "</table>\n",
       "</div>"
      ],
      "text/plain": [
       "       InvoiceNo StockCode                      Description  Quantity  \\\n",
       "541904    581587     22613      PACK OF 20 SPACEBOY NAPKINS        12   \n",
       "541905    581587     22899     CHILDREN'S APRON DOLLY GIRL          6   \n",
       "541906    581587     23254    CHILDRENS CUTLERY DOLLY GIRL          4   \n",
       "541907    581587     23255  CHILDRENS CUTLERY CIRCUS PARADE         4   \n",
       "541908    581587     22138    BAKING SET 9 PIECE RETROSPOT          3   \n",
       "\n",
       "               InvoiceDate  UnitPrice  CustomerID Country  \n",
       "541904 2011-12-09 12:50:00       0.85     12680.0  France  \n",
       "541905 2011-12-09 12:50:00       2.10     12680.0  France  \n",
       "541906 2011-12-09 12:50:00       4.15     12680.0  France  \n",
       "541907 2011-12-09 12:50:00       4.15     12680.0  France  \n",
       "541908 2011-12-09 12:50:00       4.95     12680.0  France  "
      ]
     },
     "execution_count": 4,
     "metadata": {},
     "output_type": "execute_result"
    }
   ],
   "source": [
    "df.tail()"
   ]
  },
  {
   "cell_type": "code",
   "execution_count": 19,
   "id": "8ed43d44-5ea1-4ab4-916d-8f77755b41b0",
   "metadata": {
    "execution": {
     "iopub.execute_input": "2022-10-23T14:48:25.415801Z",
     "iopub.status.busy": "2022-10-23T14:48:25.415506Z",
     "iopub.status.idle": "2022-10-23T14:48:25.460713Z",
     "shell.execute_reply": "2022-10-23T14:48:25.459812Z",
     "shell.execute_reply.started": "2022-10-23T14:48:25.415775Z"
    },
    "tags": []
   },
   "outputs": [],
   "source": [
    "df.InvoiceDate = pd.to_datetime(df.InvoiceDate, format=\"%Y%m%d\")"
   ]
  },
  {
   "cell_type": "code",
   "execution_count": 28,
   "id": "a790d566-7bef-4f26-90e0-33c2e021717c",
   "metadata": {
    "execution": {
     "iopub.execute_input": "2022-10-23T14:52:26.004551Z",
     "iopub.status.busy": "2022-10-23T14:52:26.004300Z",
     "iopub.status.idle": "2022-10-23T14:52:31.428304Z",
     "shell.execute_reply": "2022-10-23T14:52:31.427619Z",
     "shell.execute_reply.started": "2022-10-23T14:52:26.004528Z"
    },
    "tags": []
   },
   "outputs": [
    {
     "data": {
      "text/plain": [
       "<AxesSubplot:xlabel='date'>"
      ]
     },
     "execution_count": 28,
     "metadata": {},
     "output_type": "execute_result"
    },
    {
     "data": {
      "image/png": "[encoded data removed]",
      "text/plain": [
       "<Figure size 432x288 with 1 Axes>"
      ]
     },
     "metadata": {
      "needs_background": "light"
     },
     "output_type": "display_data"
    }
   ],
   "source": [
    "df['date'] = df.InvoiceDate.dt.date\n",
    "df[['date', 'InvoiceNo']].groupby('date').count().plot(kind='bar')"
   ]
  },
  {
   "cell_type": "code",
   "execution_count": 39,
   "id": "84b9af84-2f22-416c-8ed2-45aa2e59cb87",
   "metadata": {
    "execution": {
     "iopub.execute_input": "2022-10-23T14:56:40.398911Z",
     "iopub.status.busy": "2022-10-23T14:56:40.398389Z",
     "iopub.status.idle": "2022-10-23T14:56:40.550132Z",
     "shell.execute_reply": "2022-10-23T14:56:40.549402Z",
     "shell.execute_reply.started": "2022-10-23T14:56:40.398882Z"
    },
    "tags": []
   },
   "outputs": [
    {
     "data": {
      "text/html": [
       "<div>\n",
       "<style scoped>\n",
       "    .dataframe tbody tr th:only-of-type {\n",
       "        vertical-align: middle;\n",
       "    }\n",
       "\n",
       "    .dataframe tbody tr th {\n",
       "        vertical-align: top;\n",
       "    }\n",
       "\n",
       "    .dataframe thead th {\n",
       "        text-align: right;\n",
       "    }\n",
       "</style>\n",
       "<table border=\"1\" class=\"dataframe\">\n",
       "  <thead>\n",
       "    <tr style=\"text-align: right;\">\n",
       "      <th></th>\n",
       "      <th>InvoiceNo</th>\n",
       "    </tr>\n",
       "    <tr>\n",
       "      <th>month</th>\n",
       "      <th></th>\n",
       "    </tr>\n",
       "  </thead>\n",
       "  <tbody>\n",
       "    <tr>\n",
       "      <th>2010-12</th>\n",
       "      <td>42481</td>\n",
       "    </tr>\n",
       "    <tr>\n",
       "      <th>2011-01</th>\n",
       "      <td>35147</td>\n",
       "    </tr>\n",
       "    <tr>\n",
       "      <th>2011-02</th>\n",
       "      <td>27707</td>\n",
       "    </tr>\n",
       "    <tr>\n",
       "      <th>2011-03</th>\n",
       "      <td>36748</td>\n",
       "    </tr>\n",
       "    <tr>\n",
       "      <th>2011-04</th>\n",
       "      <td>29916</td>\n",
       "    </tr>\n",
       "    <tr>\n",
       "      <th>2011-05</th>\n",
       "      <td>37030</td>\n",
       "    </tr>\n",
       "    <tr>\n",
       "      <th>2011-06</th>\n",
       "      <td>36874</td>\n",
       "    </tr>\n",
       "    <tr>\n",
       "      <th>2011-07</th>\n",
       "      <td>39518</td>\n",
       "    </tr>\n",
       "    <tr>\n",
       "      <th>2011-08</th>\n",
       "      <td>35284</td>\n",
       "    </tr>\n",
       "    <tr>\n",
       "      <th>2011-09</th>\n",
       "      <td>50226</td>\n",
       "    </tr>\n",
       "    <tr>\n",
       "      <th>2011-10</th>\n",
       "      <td>60742</td>\n",
       "    </tr>\n",
       "    <tr>\n",
       "      <th>2011-11</th>\n",
       "      <td>84711</td>\n",
       "    </tr>\n",
       "    <tr>\n",
       "      <th>2011-12</th>\n",
       "      <td>25525</td>\n",
       "    </tr>\n",
       "  </tbody>\n",
       "</table>\n",
       "</div>"
      ],
      "text/plain": [
       "         InvoiceNo\n",
       "month             \n",
       "2010-12      42481\n",
       "2011-01      35147\n",
       "2011-02      27707\n",
       "2011-03      36748\n",
       "2011-04      29916\n",
       "2011-05      37030\n",
       "2011-06      36874\n",
       "2011-07      39518\n",
       "2011-08      35284\n",
       "2011-09      50226\n",
       "2011-10      60742\n",
       "2011-11      84711\n",
       "2011-12      25525"
      ]
     },
     "execution_count": 39,
     "metadata": {},
     "output_type": "execute_result"
    }
   ],
   "source": [
    "df['month'] = df.InvoiceDate.dt.to_period('M')\n",
    "df[['month', 'InvoiceNo']].groupby('month').count()"
   ]
  },
  {
   "cell_type": "code",
   "execution_count": 41,
   "id": "38d9cff6-6cb9-465a-8b6e-3321106b4dd1",
   "metadata": {
    "execution": {
     "iopub.execute_input": "2022-10-23T14:59:02.221709Z",
     "iopub.status.busy": "2022-10-23T14:59:02.221417Z",
     "iopub.status.idle": "2022-10-23T14:59:02.599653Z",
     "shell.execute_reply": "2022-10-23T14:59:02.599015Z",
     "shell.execute_reply.started": "2022-10-23T14:59:02.221680Z"
    }
   },
   "outputs": [
    {
     "data": {
      "text/plain": [
       "<AxesSubplot:xlabel='month'>"
      ]
     },
     "execution_count": 41,
     "metadata": {},
     "output_type": "execute_result"
    },
    {
     "data": {
      "image/png": "[encoded data removed]",
      "text/plain": [
       "<Figure size 432x288 with 1 Axes>"
      ]
     },
     "metadata": {
      "needs_background": "light"
     },
     "output_type": "display_data"
    }
   ],
   "source": [
    "df[['month', 'InvoiceNo']].groupby('month').count().plot(kind='bar')"
   ]
  },
  {
   "cell_type": "code",
   "execution_count": 40,
   "id": "e656c9b0-93d9-4e1a-b9a2-585184adc99d",
   "metadata": {
    "execution": {
     "iopub.execute_input": "2022-10-23T14:57:30.382378Z",
     "iopub.status.busy": "2022-10-23T14:57:30.382095Z",
     "iopub.status.idle": "2022-10-23T14:57:30.528438Z",
     "shell.execute_reply": "2022-10-23T14:57:30.527560Z",
     "shell.execute_reply.started": "2022-10-23T14:57:30.382349Z"
    }
   },
   "outputs": [
    {
     "data": {
      "text/html": [
       "<div>\n",
       "<style scoped>\n",
       "    .dataframe tbody tr th:only-of-type {\n",
       "        vertical-align: middle;\n",
       "    }\n",
       "\n",
       "    .dataframe tbody tr th {\n",
       "        vertical-align: top;\n",
       "    }\n",
       "\n",
       "    .dataframe thead th {\n",
       "        text-align: right;\n",
       "    }\n",
       "</style>\n",
       "<table border=\"1\" class=\"dataframe\">\n",
       "  <thead>\n",
       "    <tr style=\"text-align: right;\">\n",
       "      <th></th>\n",
       "      <th>InvoiceNo</th>\n",
       "    </tr>\n",
       "    <tr>\n",
       "      <th>year</th>\n",
       "      <th></th>\n",
       "    </tr>\n",
       "  </thead>\n",
       "  <tbody>\n",
       "    <tr>\n",
       "      <th>2010</th>\n",
       "      <td>42481</td>\n",
       "    </tr>\n",
       "    <tr>\n",
       "      <th>2011</th>\n",
       "      <td>499428</td>\n",
       "    </tr>\n",
       "  </tbody>\n",
       "</table>\n",
       "</div>"
      ],
      "text/plain": [
       "      InvoiceNo\n",
       "year           \n",
       "2010      42481\n",
       "2011     499428"
      ]
     },
     "execution_count": 40,
     "metadata": {},
     "output_type": "execute_result"
    }
   ],
   "source": [
    "df['year'] = df.InvoiceDate.dt.to_period('Y')\n",
    "df[['year', 'InvoiceNo']].groupby('year').count()"
   ]
  },
  {
   "cell_type": "code",
   "execution_count": 16,
   "id": "bffce201-3e12-4ef4-824d-747f515a3b15",
   "metadata": {
    "execution": {
     "iopub.execute_input": "2022-10-23T14:46:11.304514Z",
     "iopub.status.busy": "2022-10-23T14:46:11.304236Z",
     "iopub.status.idle": "2022-10-23T14:46:11.362341Z",
     "shell.execute_reply": "2022-10-23T14:46:11.361265Z",
     "shell.execute_reply.started": "2022-10-23T14:46:11.304485Z"
    },
    "scrolled": true,
    "tags": []
   },
   "outputs": [
    {
     "data": {
      "text/plain": [
       "WHITE HANGING HEART T-LIGHT HOLDER     2369\n",
       "REGENCY CAKESTAND 3 TIER               2200\n",
       "JUMBO BAG RED RETROSPOT                2159\n",
       "PARTY BUNTING                          1727\n",
       "LUNCH BAG RED RETROSPOT                1638\n",
       "ASSORTED COLOUR BIRD ORNAMENT          1501\n",
       "SET OF 3 CAKE TINS PANTRY DESIGN       1473\n",
       "PACK OF 72 RETROSPOT CAKE CASES        1385\n",
       "LUNCH BAG  BLACK SKULL.                1350\n",
       "NATURAL SLATE HEART CHALKBOARD         1280\n",
       "POSTAGE                                1252\n",
       "JUMBO BAG PINK POLKADOT                1251\n",
       "HEART OF WICKER SMALL                  1237\n",
       "JAM MAKING SET WITH JARS               1229\n",
       "JUMBO STORAGE BAG SUKI                 1214\n",
       "PAPER CHAIN KIT 50'S CHRISTMAS         1210\n",
       "JUMBO SHOPPER VINTAGE RED PAISLEY      1202\n",
       "LUNCH BAG CARS BLUE                    1197\n",
       "LUNCH BAG SPACEBOY DESIGN              1192\n",
       "JAM MAKING SET PRINTED                 1182\n",
       "RECIPE BOX PANTRY YELLOW DESIGN        1180\n",
       "SPOTTY BUNTING                         1172\n",
       "LUNCH BAG SUKI DESIGN                  1139\n",
       "ROSES REGENCY TEACUP AND SAUCER        1138\n",
       "LUNCH BAG PINK POLKADOT                1137\n",
       "WOODEN PICTURE FRAME WHITE FINISH      1129\n",
       "SET OF 4 PANTRY JELLY MOULDS           1111\n",
       "ALARM CLOCK BAKELIKE RED               1107\n",
       "GREEN REGENCY TEACUP AND SAUCER        1085\n",
       "LUNCH BAG APPLE DESIGN                 1084\n",
       "VICTORIAN GLASS HANGING T-LIGHT        1072\n",
       "RED RETROSPOT CHARLOTTE BAG            1068\n",
       "LUNCH BAG WOODLAND                     1061\n",
       "RABBIT NIGHT LIGHT                     1051\n",
       "ALARM CLOCK BAKELIKE GREEN             1024\n",
       "SET/20 RED RETROSPOT PAPER NAPKINS     1015\n",
       "JUMBO BAG APPLES                       1009\n",
       "WOODEN FRAME ANTIQUE WHITE              999\n",
       "RETROSPOT TEA SET CERAMIC 11 PC         988\n",
       "6 RIBBONS RUSTIC CHARM                  986\n",
       "BAKING SET 9 PIECE RETROSPOT            974\n",
       "REX CASH+CARRY JUMBO SHOPPER            967\n",
       "HEART OF WICKER LARGE                   961\n",
       "JUMBO  BAG BAROQUE BLACK WHITE          960\n",
       "VINTAGE SNAP CARDS                      944\n",
       "GARDENERS KNEELING PAD KEEP CALM        937\n",
       "SET/5 RED RETROSPOT LID GLASS BOWLS     936\n",
       "JUMBO BAG ALPHABET                      930\n",
       "SPACEBOY LUNCH BOX                      924\n",
       "SET OF 3 REGENCY CAKE TINS              919\n",
       "Name: Description, dtype: int64"
      ]
     },
     "execution_count": 16,
     "metadata": {},
     "output_type": "execute_result"
    }
   ],
   "source": [
    "df.Description.value_counts()[:50]"
   ]
  },
  {
   "cell_type": "code",
   "execution_count": 11,
   "id": "bd9e42fd-36d2-4864-98fb-bba22499de8b",
   "metadata": {
    "execution": {
     "iopub.execute_input": "2022-10-23T14:31:57.127745Z",
     "iopub.status.busy": "2022-10-23T14:31:57.127111Z",
     "iopub.status.idle": "2022-10-23T14:31:57.178872Z",
     "shell.execute_reply": "2022-10-23T14:31:57.177815Z",
     "shell.execute_reply.started": "2022-10-23T14:31:57.127672Z"
    }
   },
   "outputs": [
    {
     "data": {
      "text/plain": [
       "count    541909.000000\n",
       "mean          4.611114\n",
       "std          96.759853\n",
       "min      -11062.060000\n",
       "25%           1.250000\n",
       "50%           2.080000\n",
       "75%           4.130000\n",
       "max       38970.000000\n",
       "Name: UnitPrice, dtype: float64"
      ]
     },
     "execution_count": 11,
     "metadata": {},
     "output_type": "execute_result"
    }
   ],
   "source": [
    "df.UnitPrice.describe()"
   ]
  },
  {
   "cell_type": "code",
   "execution_count": 10,
   "id": "f60e4a81-b6f7-49f0-a3a3-8cf96f5d7000",
   "metadata": {
    "execution": {
     "iopub.execute_input": "2022-10-23T14:31:30.902883Z",
     "iopub.status.busy": "2022-10-23T14:31:30.902492Z",
     "iopub.status.idle": "2022-10-23T14:31:30.997367Z",
     "shell.execute_reply": "2022-10-23T14:31:30.995510Z",
     "shell.execute_reply.started": "2022-10-23T14:31:30.902859Z"
    },
    "tags": []
   },
   "outputs": [
    {
     "data": {
      "text/plain": [
       "count    406829.000000\n",
       "mean      15287.690570\n",
       "std        1713.600303\n",
       "min       12346.000000\n",
       "25%       13953.000000\n",
       "50%       15152.000000\n",
       "75%       16791.000000\n",
       "max       18287.000000\n",
       "Name: CustomerID, dtype: float64"
      ]
     },
     "execution_count": 10,
     "metadata": {},
     "output_type": "execute_result"
    }
   ],
   "source": [
    "df.CustomerID.describe()"
   ]
  },
  {
   "cell_type": "code",
   "execution_count": 12,
   "id": "99f501ea-5d4c-4d09-b537-3ce590bc751e",
   "metadata": {
    "execution": {
     "iopub.execute_input": "2022-10-23T14:34:41.514089Z",
     "iopub.status.busy": "2022-10-23T14:34:41.513812Z",
     "iopub.status.idle": "2022-10-23T14:34:41.543647Z",
     "shell.execute_reply": "2022-10-23T14:34:41.542660Z",
     "shell.execute_reply.started": "2022-10-23T14:34:41.514061Z"
    }
   },
   "outputs": [
    {
     "data": {
      "text/plain": [
       "17841.0    7983\n",
       "14911.0    5903\n",
       "14096.0    5128\n",
       "12748.0    4642\n",
       "14606.0    2782\n",
       "           ... \n",
       "15070.0       1\n",
       "15753.0       1\n",
       "17065.0       1\n",
       "16881.0       1\n",
       "16995.0       1\n",
       "Name: CustomerID, Length: 4372, dtype: int64"
      ]
     },
     "execution_count": 12,
     "metadata": {},
     "output_type": "execute_result"
    }
   ],
   "source": [
    "df.CustomerID.value_counts()"
   ]
  },
  {
   "cell_type": "code",
   "execution_count": 5,
   "id": "8850c336-9e06-45e0-971c-bfaa9b4de184",
   "metadata": {
    "execution": {
     "iopub.execute_input": "2022-10-23T14:24:47.227534Z",
     "iopub.status.busy": "2022-10-23T14:24:47.227082Z",
     "iopub.status.idle": "2022-10-23T14:24:47.271136Z",
     "shell.execute_reply": "2022-10-23T14:24:47.270185Z",
     "shell.execute_reply.started": "2022-10-23T14:24:47.227496Z"
    },
    "tags": []
   },
   "outputs": [
    {
     "data": {
      "text/plain": [
       "United Kingdom          495478\n",
       "Germany                   9495\n",
       "France                    8557\n",
       "EIRE                      8196\n",
       "Spain                     2533\n",
       "Netherlands               2371\n",
       "Belgium                   2069\n",
       "Switzerland               2002\n",
       "Portugal                  1519\n",
       "Australia                 1259\n",
       "Norway                    1086\n",
       "Italy                      803\n",
       "Channel Islands            758\n",
       "Finland                    695\n",
       "Cyprus                     622\n",
       "Sweden                     462\n",
       "Unspecified                446\n",
       "Austria                    401\n",
       "Denmark                    389\n",
       "Japan                      358\n",
       "Poland                     341\n",
       "Israel                     297\n",
       "USA                        291\n",
       "Hong Kong                  288\n",
       "Singapore                  229\n",
       "Iceland                    182\n",
       "Canada                     151\n",
       "Greece                     146\n",
       "Malta                      127\n",
       "United Arab Emirates        68\n",
       "European Community          61\n",
       "RSA                         58\n",
       "Lebanon                     45\n",
       "Lithuania                   35\n",
       "Brazil                      32\n",
       "Czech Republic              30\n",
       "Bahrain                     19\n",
       "Saudi Arabia                10\n",
       "Name: Country, dtype: int64"
      ]
     },
     "execution_count": 5,
     "metadata": {},
     "output_type": "execute_result"
    }
   ],
   "source": [
    "df.Country.value_counts()"
   ]
  },
  {
   "cell_type": "code",
   "execution_count": 13,
   "id": "caf8b8a8-932c-4d3a-b432-7531b657015d",
   "metadata": {
    "execution": {
     "iopub.execute_input": "2022-10-23T14:39:55.607783Z",
     "iopub.status.busy": "2022-10-23T14:39:55.607370Z",
     "iopub.status.idle": "2022-10-23T14:39:55.753162Z",
     "shell.execute_reply": "2022-10-23T14:39:55.752362Z",
     "shell.execute_reply.started": "2022-10-23T14:39:55.607741Z"
    },
    "tags": []
   },
   "outputs": [
    {
     "data": {
      "text/html": [
       "<div>\n",
       "<style scoped>\n",
       "    .dataframe tbody tr th:only-of-type {\n",
       "        vertical-align: middle;\n",
       "    }\n",
       "\n",
       "    .dataframe tbody tr th {\n",
       "        vertical-align: top;\n",
       "    }\n",
       "\n",
       "    .dataframe thead th {\n",
       "        text-align: right;\n",
       "    }\n",
       "</style>\n",
       "<table border=\"1\" class=\"dataframe\">\n",
       "  <thead>\n",
       "    <tr style=\"text-align: right;\">\n",
       "      <th></th>\n",
       "      <th>Quantity</th>\n",
       "    </tr>\n",
       "    <tr>\n",
       "      <th>Country</th>\n",
       "      <th></th>\n",
       "    </tr>\n",
       "  </thead>\n",
       "  <tbody>\n",
       "    <tr>\n",
       "      <th>Australia</th>\n",
       "      <td>83653</td>\n",
       "    </tr>\n",
       "    <tr>\n",
       "      <th>Austria</th>\n",
       "      <td>4827</td>\n",
       "    </tr>\n",
       "    <tr>\n",
       "      <th>Bahrain</th>\n",
       "      <td>260</td>\n",
       "    </tr>\n",
       "    <tr>\n",
       "      <th>Belgium</th>\n",
       "      <td>23152</td>\n",
       "    </tr>\n",
       "    <tr>\n",
       "      <th>Brazil</th>\n",
       "      <td>356</td>\n",
       "    </tr>\n",
       "    <tr>\n",
       "      <th>Canada</th>\n",
       "      <td>2763</td>\n",
       "    </tr>\n",
       "    <tr>\n",
       "      <th>Channel Islands</th>\n",
       "      <td>9479</td>\n",
       "    </tr>\n",
       "    <tr>\n",
       "      <th>Cyprus</th>\n",
       "      <td>6317</td>\n",
       "    </tr>\n",
       "    <tr>\n",
       "      <th>Czech Republic</th>\n",
       "      <td>592</td>\n",
       "    </tr>\n",
       "    <tr>\n",
       "      <th>Denmark</th>\n",
       "      <td>8188</td>\n",
       "    </tr>\n",
       "    <tr>\n",
       "      <th>EIRE</th>\n",
       "      <td>142637</td>\n",
       "    </tr>\n",
       "    <tr>\n",
       "      <th>European Community</th>\n",
       "      <td>497</td>\n",
       "    </tr>\n",
       "    <tr>\n",
       "      <th>Finland</th>\n",
       "      <td>10666</td>\n",
       "    </tr>\n",
       "    <tr>\n",
       "      <th>France</th>\n",
       "      <td>110480</td>\n",
       "    </tr>\n",
       "    <tr>\n",
       "      <th>Germany</th>\n",
       "      <td>117448</td>\n",
       "    </tr>\n",
       "    <tr>\n",
       "      <th>Greece</th>\n",
       "      <td>1556</td>\n",
       "    </tr>\n",
       "    <tr>\n",
       "      <th>Hong Kong</th>\n",
       "      <td>4769</td>\n",
       "    </tr>\n",
       "    <tr>\n",
       "      <th>Iceland</th>\n",
       "      <td>2458</td>\n",
       "    </tr>\n",
       "    <tr>\n",
       "      <th>Israel</th>\n",
       "      <td>4353</td>\n",
       "    </tr>\n",
       "    <tr>\n",
       "      <th>Italy</th>\n",
       "      <td>7999</td>\n",
       "    </tr>\n",
       "    <tr>\n",
       "      <th>Japan</th>\n",
       "      <td>25218</td>\n",
       "    </tr>\n",
       "    <tr>\n",
       "      <th>Lebanon</th>\n",
       "      <td>386</td>\n",
       "    </tr>\n",
       "    <tr>\n",
       "      <th>Lithuania</th>\n",
       "      <td>652</td>\n",
       "    </tr>\n",
       "    <tr>\n",
       "      <th>Malta</th>\n",
       "      <td>944</td>\n",
       "    </tr>\n",
       "    <tr>\n",
       "      <th>Netherlands</th>\n",
       "      <td>200128</td>\n",
       "    </tr>\n",
       "    <tr>\n",
       "      <th>Norway</th>\n",
       "      <td>19247</td>\n",
       "    </tr>\n",
       "    <tr>\n",
       "      <th>Poland</th>\n",
       "      <td>3653</td>\n",
       "    </tr>\n",
       "    <tr>\n",
       "      <th>Portugal</th>\n",
       "      <td>16180</td>\n",
       "    </tr>\n",
       "    <tr>\n",
       "      <th>RSA</th>\n",
       "      <td>352</td>\n",
       "    </tr>\n",
       "    <tr>\n",
       "      <th>Saudi Arabia</th>\n",
       "      <td>75</td>\n",
       "    </tr>\n",
       "    <tr>\n",
       "      <th>Singapore</th>\n",
       "      <td>5234</td>\n",
       "    </tr>\n",
       "    <tr>\n",
       "      <th>Spain</th>\n",
       "      <td>26824</td>\n",
       "    </tr>\n",
       "    <tr>\n",
       "      <th>Sweden</th>\n",
       "      <td>35637</td>\n",
       "    </tr>\n",
       "    <tr>\n",
       "      <th>Switzerland</th>\n",
       "      <td>30325</td>\n",
       "    </tr>\n",
       "    <tr>\n",
       "      <th>USA</th>\n",
       "      <td>1034</td>\n",
       "    </tr>\n",
       "    <tr>\n",
       "      <th>United Arab Emirates</th>\n",
       "      <td>982</td>\n",
       "    </tr>\n",
       "    <tr>\n",
       "      <th>United Kingdom</th>\n",
       "      <td>4263829</td>\n",
       "    </tr>\n",
       "    <tr>\n",
       "      <th>Unspecified</th>\n",
       "      <td>3300</td>\n",
       "    </tr>\n",
       "  </tbody>\n",
       "</table>\n",
       "</div>"
      ],
      "text/plain": [
       "                      Quantity\n",
       "Country                       \n",
       "Australia                83653\n",
       "Austria                   4827\n",
       "Bahrain                    260\n",
       "Belgium                  23152\n",
       "Brazil                     356\n",
       "Canada                    2763\n",
       "Channel Islands           9479\n",
       "Cyprus                    6317\n",
       "Czech Republic             592\n",
       "Denmark                   8188\n",
       "EIRE                    142637\n",
       "European Community         497\n",
       "Finland                  10666\n",
       "France                  110480\n",
       "Germany                 117448\n",
       "Greece                    1556\n",
       "Hong Kong                 4769\n",
       "Iceland                   2458\n",
       "Israel                    4353\n",
       "Italy                     7999\n",
       "Japan                    25218\n",
       "Lebanon                    386\n",
       "Lithuania                  652\n",
       "Malta                      944\n",
       "Netherlands             200128\n",
       "Norway                   19247\n",
       "Poland                    3653\n",
       "Portugal                 16180\n",
       "RSA                        352\n",
       "Saudi Arabia                75\n",
       "Singapore                 5234\n",
       "Spain                    26824\n",
       "Sweden                   35637\n",
       "Switzerland              30325\n",
       "USA                       1034\n",
       "United Arab Emirates       982\n",
       "United Kingdom         4263829\n",
       "Unspecified               3300"
      ]
     },
     "execution_count": 13,
     "metadata": {},
     "output_type": "execute_result"
    }
   ],
   "source": [
    "df[[\"Country\", \"Quantity\"]].groupby('Country').sum()"
   ]
  },
  {
   "cell_type": "markdown",
   "id": "ce7337ab-7fbb-483c-88cb-f10e92959a50",
   "metadata": {},
   "source": [
    "**Quantitative Questions**\n",
    "- Which country has the highest ROI? \n",
    "- What are the top 10 stocks? How about their profitability? \n",
    "- Who are our future, largest potential partners? \n",
    "- What are the top-selling products?"
   ]
  },
  {
   "cell_type": "markdown",
   "id": "27f2d509-18d9-4005-baed-d65c658c0aef",
   "metadata": {},
   "source": [
    "**Qualitative Questions**\n",
    "- Is there any preference for products we sell in a particular country when they buy our products? For example, are most of our French buyers looking into children's products? \n",
    "- Why do we have so many orders from the United Kingdom? \n",
    "- Why did we have fewer sales in Dec 2011 compared to Dec 2010? \n",
    "- Why did we experience a sell peak in November 2011? "
   ]
  }
 ],
 "metadata": {
  "kernelspec": {
   "display_name": "tata-viz",
   "language": "python",
   "name": "tata-viz"
  },
  "language_info": {
   "codemirror_mode": {
    "name": "ipython",
    "version": 3
   },
   "file_extension": ".py",
   "mimetype": "text/x-python",
   "name": "python",
   "nbconvert_exporter": "python",
   "pygments_lexer": "ipython3",
   "version": "3.9.14"
  },
  "widgets": {
   "application/vnd.jupyter.widget-state+json": {
    "state": {},
    "version_major": 2,
    "version_minor": 0
   }
  }
 },
 "nbformat": 4,
 "nbformat_minor": 5
}
