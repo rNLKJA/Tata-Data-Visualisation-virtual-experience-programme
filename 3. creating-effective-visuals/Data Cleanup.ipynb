{
 "cells": [
  {
   "cell_type": "code",
   "execution_count": 1,
   "id": "d8b2630b-6bfd-41c6-acca-f72e1580674f",
   "metadata": {
    "execution": {
     "iopub.execute_input": "2022-10-24T06:42:39.932986Z",
     "iopub.status.busy": "2022-10-24T06:42:39.932620Z",
     "iopub.status.idle": "2022-10-24T06:42:40.932615Z",
     "shell.execute_reply": "2022-10-24T06:42:40.931879Z",
     "shell.execute_reply.started": "2022-10-24T06:42:39.932868Z"
    }
   },
   "outputs": [],
   "source": [
    "import pandas as pd\n",
    "import numpy as np"
   ]
  },
  {
   "cell_type": "code",
   "execution_count": 2,
   "id": "8cba6b16-7aa3-43ab-8e37-4f7ab5ea0214",
   "metadata": {
    "execution": {
     "iopub.execute_input": "2022-10-24T06:43:12.785742Z",
     "iopub.status.busy": "2022-10-24T06:43:12.785405Z",
     "iopub.status.idle": "2022-10-24T06:44:15.670184Z",
     "shell.execute_reply": "2022-10-24T06:44:15.669404Z",
     "shell.execute_reply.started": "2022-10-24T06:43:12.785713Z"
    }
   },
   "outputs": [],
   "source": [
    "# load data\n",
    "data_url = \"https://cdn.theforage.com/vinternships/companyassets/ifobHAoMjQs9s6bKS/5XsFFJu2oCLdmYJW2/1654309626143/Online%20Retail%20Data%20Set.xlsx\"\n",
    "\n",
    "df = pd.read_excel(data_url)"
   ]
  },
  {
   "cell_type": "code",
   "execution_count": 6,
   "id": "f615bb18-27aa-4c32-a20f-a17148f02634",
   "metadata": {
    "execution": {
     "iopub.execute_input": "2022-10-24T06:44:35.926230Z",
     "iopub.status.busy": "2022-10-24T06:44:35.925949Z",
     "iopub.status.idle": "2022-10-24T06:44:35.967044Z",
     "shell.execute_reply": "2022-10-24T06:44:35.963533Z",
     "shell.execute_reply.started": "2022-10-24T06:44:35.926204Z"
    },
    "tags": []
   },
   "outputs": [
    {
     "data": {
      "text/html": [
       "<div>\n",
       "<style scoped>\n",
       "    .dataframe tbody tr th:only-of-type {\n",
       "        vertical-align: middle;\n",
       "    }\n",
       "\n",
       "    .dataframe tbody tr th {\n",
       "        vertical-align: top;\n",
       "    }\n",
       "\n",
       "    .dataframe thead th {\n",
       "        text-align: right;\n",
       "    }\n",
       "</style>\n",
       "<table border=\"1\" class=\"dataframe\">\n",
       "  <thead>\n",
       "    <tr style=\"text-align: right;\">\n",
       "      <th></th>\n",
       "      <th>InvoiceNo</th>\n",
       "      <th>StockCode</th>\n",
       "      <th>Description</th>\n",
       "      <th>Quantity</th>\n",
       "      <th>InvoiceDate</th>\n",
       "      <th>UnitPrice</th>\n",
       "      <th>CustomerID</th>\n",
       "      <th>Country</th>\n",
       "    </tr>\n",
       "  </thead>\n",
       "  <tbody>\n",
       "    <tr>\n",
       "      <th>541904</th>\n",
       "      <td>581587</td>\n",
       "      <td>22613</td>\n",
       "      <td>PACK OF 20 SPACEBOY NAPKINS</td>\n",
       "      <td>12</td>\n",
       "      <td>2011-12-09 12:50:00</td>\n",
       "      <td>0.85</td>\n",
       "      <td>12680.0</td>\n",
       "      <td>France</td>\n",
       "    </tr>\n",
       "    <tr>\n",
       "      <th>541905</th>\n",
       "      <td>581587</td>\n",
       "      <td>22899</td>\n",
       "      <td>CHILDREN'S APRON DOLLY GIRL</td>\n",
       "      <td>6</td>\n",
       "      <td>2011-12-09 12:50:00</td>\n",
       "      <td>2.10</td>\n",
       "      <td>12680.0</td>\n",
       "      <td>France</td>\n",
       "    </tr>\n",
       "    <tr>\n",
       "      <th>541906</th>\n",
       "      <td>581587</td>\n",
       "      <td>23254</td>\n",
       "      <td>CHILDRENS CUTLERY DOLLY GIRL</td>\n",
       "      <td>4</td>\n",
       "      <td>2011-12-09 12:50:00</td>\n",
       "      <td>4.15</td>\n",
       "      <td>12680.0</td>\n",
       "      <td>France</td>\n",
       "    </tr>\n",
       "    <tr>\n",
       "      <th>541907</th>\n",
       "      <td>581587</td>\n",
       "      <td>23255</td>\n",
       "      <td>CHILDRENS CUTLERY CIRCUS PARADE</td>\n",
       "      <td>4</td>\n",
       "      <td>2011-12-09 12:50:00</td>\n",
       "      <td>4.15</td>\n",
       "      <td>12680.0</td>\n",
       "      <td>France</td>\n",
       "    </tr>\n",
       "    <tr>\n",
       "      <th>541908</th>\n",
       "      <td>581587</td>\n",
       "      <td>22138</td>\n",
       "      <td>BAKING SET 9 PIECE RETROSPOT</td>\n",
       "      <td>3</td>\n",
       "      <td>2011-12-09 12:50:00</td>\n",
       "      <td>4.95</td>\n",
       "      <td>12680.0</td>\n",
       "      <td>France</td>\n",
       "    </tr>\n",
       "  </tbody>\n",
       "</table>\n",
       "</div>"
      ],
      "text/plain": [
       "       InvoiceNo StockCode                      Description  Quantity  \\\n",
       "541904    581587     22613      PACK OF 20 SPACEBOY NAPKINS        12   \n",
       "541905    581587     22899     CHILDREN'S APRON DOLLY GIRL          6   \n",
       "541906    581587     23254    CHILDRENS CUTLERY DOLLY GIRL          4   \n",
       "541907    581587     23255  CHILDRENS CUTLERY CIRCUS PARADE         4   \n",
       "541908    581587     22138    BAKING SET 9 PIECE RETROSPOT          3   \n",
       "\n",
       "               InvoiceDate  UnitPrice  CustomerID Country  \n",
       "541904 2011-12-09 12:50:00       0.85     12680.0  France  \n",
       "541905 2011-12-09 12:50:00       2.10     12680.0  France  \n",
       "541906 2011-12-09 12:50:00       4.15     12680.0  France  \n",
       "541907 2011-12-09 12:50:00       4.15     12680.0  France  \n",
       "541908 2011-12-09 12:50:00       4.95     12680.0  France  "
      ]
     },
     "execution_count": 6,
     "metadata": {},
     "output_type": "execute_result"
    }
   ],
   "source": [
    "df.tail()"
   ]
  },
  {
   "cell_type": "code",
   "execution_count": 4,
   "id": "334b9d19-1191-47e3-af92-680c2e5db5d6",
   "metadata": {
    "execution": {
     "iopub.execute_input": "2022-10-24T06:44:15.811086Z",
     "iopub.status.busy": "2022-10-24T06:44:15.810632Z",
     "iopub.status.idle": "2022-10-24T06:44:15.816760Z",
     "shell.execute_reply": "2022-10-24T06:44:15.815302Z",
     "shell.execute_reply.started": "2022-10-24T06:44:15.811045Z"
    }
   },
   "outputs": [
    {
     "data": {
      "text/plain": [
       "(541909, 8)"
      ]
     },
     "execution_count": 4,
     "metadata": {},
     "output_type": "execute_result"
    }
   ],
   "source": [
    "df.shape"
   ]
  },
  {
   "cell_type": "code",
   "execution_count": 10,
   "id": "221b2050-6344-4983-87de-ed3df9c5e859",
   "metadata": {
    "execution": {
     "iopub.execute_input": "2022-10-24T06:45:56.860156Z",
     "iopub.status.busy": "2022-10-24T06:45:56.859676Z",
     "iopub.status.idle": "2022-10-24T06:45:56.953081Z",
     "shell.execute_reply": "2022-10-24T06:45:56.950853Z",
     "shell.execute_reply.started": "2022-10-24T06:45:56.860111Z"
    },
    "tags": []
   },
   "outputs": [
    {
     "data": {
      "text/plain": [
       "(531285, 8)"
      ]
     },
     "execution_count": 10,
     "metadata": {},
     "output_type": "execute_result"
    }
   ],
   "source": [
    "# check quantity should not be below 1 unit\n",
    "df1 = df.query(\"Quantity >= 1\")\n",
    "df1.shape"
   ]
  },
  {
   "cell_type": "code",
   "execution_count": 11,
   "id": "c16afc38-22b6-4e41-900e-8bb20a7658b5",
   "metadata": {
    "execution": {
     "iopub.execute_input": "2022-10-24T06:46:41.538724Z",
     "iopub.status.busy": "2022-10-24T06:46:41.538402Z",
     "iopub.status.idle": "2022-10-24T06:46:41.575868Z",
     "shell.execute_reply": "2022-10-24T06:46:41.575210Z",
     "shell.execute_reply.started": "2022-10-24T06:46:41.538702Z"
    }
   },
   "outputs": [
    {
     "data": {
      "text/plain": [
       "(530104, 8)"
      ]
     },
     "execution_count": 11,
     "metadata": {},
     "output_type": "execute_result"
    }
   ],
   "source": [
    "# check unit price should not be below $0\n",
    "df2 = df1.query(\"UnitPrice > 0\")\n",
    "df2.shape"
   ]
  },
  {
   "cell_type": "code",
   "execution_count": 14,
   "id": "d4204b4d-a070-44a9-ae18-dccfe20ad5bb",
   "metadata": {
    "execution": {
     "iopub.execute_input": "2022-10-24T06:49:00.965586Z",
     "iopub.status.busy": "2022-10-24T06:49:00.965242Z",
     "iopub.status.idle": "2022-10-24T06:49:01.036715Z",
     "shell.execute_reply": "2022-10-24T06:49:01.035652Z",
     "shell.execute_reply.started": "2022-10-24T06:49:00.965557Z"
    },
    "tags": []
   },
   "outputs": [
    {
     "data": {
      "text/plain": [
       "573585    1114\n",
       "581219     749\n",
       "581492     731\n",
       "580729     721\n",
       "558475     705\n",
       "          ... \n",
       "574320       1\n",
       "539081       1\n",
       "574324       1\n",
       "566009       1\n",
       "570725       1\n",
       "Name: InvoiceNo, Length: 19960, dtype: int64"
      ]
     },
     "execution_count": 14,
     "metadata": {},
     "output_type": "execute_result"
    }
   ],
   "source": [
    "# check missing values\n",
    "df2.InvoiceNo.value_counts()"
   ]
  },
  {
   "cell_type": "code",
   "execution_count": 15,
   "id": "27599f4f-754c-409f-9550-bde1d6258622",
   "metadata": {
    "execution": {
     "iopub.execute_input": "2022-10-24T06:49:07.777988Z",
     "iopub.status.busy": "2022-10-24T06:49:07.777375Z",
     "iopub.status.idle": "2022-10-24T06:49:07.819166Z",
     "shell.execute_reply": "2022-10-24T06:49:07.818375Z",
     "shell.execute_reply.started": "2022-10-24T06:49:07.777957Z"
    }
   },
   "outputs": [
    {
     "data": {
      "text/plain": [
       "85123A      2265\n",
       "85099B      2112\n",
       "22423       2017\n",
       "47566       1706\n",
       "20725       1595\n",
       "            ... \n",
       "DCGS0004       1\n",
       "84705C         1\n",
       "20964          1\n",
       "72803b         1\n",
       "23843          1\n",
       "Name: StockCode, Length: 3922, dtype: int64"
      ]
     },
     "execution_count": 15,
     "metadata": {},
     "output_type": "execute_result"
    }
   ],
   "source": [
    "df2.StockCode.value_counts()"
   ]
  },
  {
   "cell_type": "code",
   "execution_count": 16,
   "id": "ae2cc359-3415-4285-8107-9aece1ed6c63",
   "metadata": {
    "execution": {
     "iopub.execute_input": "2022-10-24T06:49:39.038303Z",
     "iopub.status.busy": "2022-10-24T06:49:39.037993Z",
     "iopub.status.idle": "2022-10-24T06:49:39.067665Z",
     "shell.execute_reply": "2022-10-24T06:49:39.066719Z",
     "shell.execute_reply.started": "2022-10-24T06:49:39.038284Z"
    }
   },
   "outputs": [
    {
     "data": {
      "text/plain": [
       "17841.0    7847\n",
       "14911.0    5675\n",
       "14096.0    5111\n",
       "12748.0    4595\n",
       "14606.0    2700\n",
       "           ... \n",
       "18184.0       1\n",
       "13185.0       1\n",
       "16073.0       1\n",
       "17948.0       1\n",
       "17846.0       1\n",
       "Name: CustomerID, Length: 4338, dtype: int64"
      ]
     },
     "execution_count": 16,
     "metadata": {},
     "output_type": "execute_result"
    }
   ],
   "source": [
    "df2.CustomerID.value_counts()"
   ]
  },
  {
   "cell_type": "code",
   "execution_count": 17,
   "id": "5dc0a9ff-d5a8-4d97-af90-fec8002157d6",
   "metadata": {
    "execution": {
     "iopub.execute_input": "2022-10-24T06:51:54.459213Z",
     "iopub.status.busy": "2022-10-24T06:51:54.458761Z",
     "iopub.status.idle": "2022-10-24T06:51:57.831247Z",
     "shell.execute_reply": "2022-10-24T06:51:57.830435Z",
     "shell.execute_reply.started": "2022-10-24T06:51:54.459065Z"
    }
   },
   "outputs": [],
   "source": [
    "df2.to_csv(\"../data/cleaned_sales_data.csv\", index=False)"
   ]
  },
  {
   "cell_type": "code",
   "execution_count": null,
   "id": "12ecb413-4f25-4587-b639-8ce4c1591ac9",
   "metadata": {},
   "outputs": [],
   "source": []
  }
 ],
 "metadata": {
  "kernelspec": {
   "display_name": "tata-viz",
   "language": "python",
   "name": "tata-viz"
  },
  "language_info": {
   "codemirror_mode": {
    "name": "ipython",
    "version": 3
   },
   "file_extension": ".py",
   "mimetype": "text/x-python",
   "name": "python",
   "nbconvert_exporter": "python",
   "pygments_lexer": "ipython3",
   "version": "3.9.14"
  },
  "widgets": {
   "application/vnd.jupyter.widget-state+json": {
    "state": {},
    "version_major": 2,
    "version_minor": 0
   }
  }
 },
 "nbformat": 4,
 "nbformat_minor": 5
}
